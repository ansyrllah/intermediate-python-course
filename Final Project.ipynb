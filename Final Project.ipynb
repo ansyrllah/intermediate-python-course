{
 "cells": [
  {
   "cell_type": "markdown",
   "id": "9d073ab7-0ae6-4269-a039-30a68fe174fb",
   "metadata": {},
   "source": [
    "# Final Project Kelompok Alpha"
   ]
  },
  {
   "cell_type": "code",
   "execution_count": 2,
   "id": "673073dd-c2c3-441f-ad0d-db3e8e301faa",
   "metadata": {},
   "outputs": [],
   "source": [
    "import numpy as np\n",
    "import pandas as pd\n",
    "import matplotlib as mpl\n",
    "import matplotlib.pyplot as plt\n",
    "%matplotlib inline"
   ]
  },
  {
   "cell_type": "code",
   "execution_count": 3,
   "id": "0a19524f-23d9-40c3-aceb-f3a7ae99963e",
   "metadata": {},
   "outputs": [],
   "source": [
    "airbnb = pd.read_csv(\"airbnb.csv\")"
   ]
  },
  {
   "cell_type": "markdown",
   "id": "617ebf59-1ba4-4ca7-80e2-92507bce2c44",
   "metadata": {},
   "source": [
    "### 1. Gambaran besar"
   ]
  },
  {
   "cell_type": "code",
   "execution_count": 4,
   "id": "fc03e323-9f8b-4ae6-9a8c-2c7191998d65",
   "metadata": {},
   "outputs": [
    {
     "data": {
      "text/html": [
       "<div>\n",
       "<style scoped>\n",
       "    .dataframe tbody tr th:only-of-type {\n",
       "        vertical-align: middle;\n",
       "    }\n",
       "\n",
       "    .dataframe tbody tr th {\n",
       "        vertical-align: top;\n",
       "    }\n",
       "\n",
       "    .dataframe thead th {\n",
       "        text-align: right;\n",
       "    }\n",
       "</style>\n",
       "<table border=\"1\" class=\"dataframe\">\n",
       "  <thead>\n",
       "    <tr style=\"text-align: right;\">\n",
       "      <th></th>\n",
       "      <th>id</th>\n",
       "      <th>name</th>\n",
       "      <th>host_id</th>\n",
       "      <th>host_name</th>\n",
       "      <th>neighbourhood_group</th>\n",
       "      <th>neighbourhood</th>\n",
       "      <th>latitude</th>\n",
       "      <th>longitude</th>\n",
       "      <th>room_type</th>\n",
       "      <th>price</th>\n",
       "      <th>minimum_nights</th>\n",
       "      <th>number_of_reviews</th>\n",
       "      <th>last_review</th>\n",
       "      <th>reviews_per_month</th>\n",
       "      <th>calculated_host_listings_count</th>\n",
       "      <th>availability_365</th>\n",
       "    </tr>\n",
       "  </thead>\n",
       "  <tbody>\n",
       "    <tr>\n",
       "      <th>9151</th>\n",
       "      <td>7003697</td>\n",
       "      <td>Furnished room in Astoria apartment</td>\n",
       "      <td>20582832</td>\n",
       "      <td>Kathrine</td>\n",
       "      <td>Queens</td>\n",
       "      <td>Astoria</td>\n",
       "      <td>40.76810</td>\n",
       "      <td>-73.91651</td>\n",
       "      <td>Private room</td>\n",
       "      <td>10000</td>\n",
       "      <td>100</td>\n",
       "      <td>2</td>\n",
       "      <td>2016-02-13</td>\n",
       "      <td>0.04</td>\n",
       "      <td>1</td>\n",
       "      <td>0</td>\n",
       "    </tr>\n",
       "    <tr>\n",
       "      <th>17692</th>\n",
       "      <td>13894339</td>\n",
       "      <td>Luxury 1 bedroom apt. -stunning Manhattan views</td>\n",
       "      <td>5143901</td>\n",
       "      <td>Erin</td>\n",
       "      <td>Brooklyn</td>\n",
       "      <td>Greenpoint</td>\n",
       "      <td>40.73260</td>\n",
       "      <td>-73.95739</td>\n",
       "      <td>Entire home/apt</td>\n",
       "      <td>10000</td>\n",
       "      <td>5</td>\n",
       "      <td>5</td>\n",
       "      <td>2017-07-27</td>\n",
       "      <td>0.16</td>\n",
       "      <td>1</td>\n",
       "      <td>0</td>\n",
       "    </tr>\n",
       "    <tr>\n",
       "      <th>29238</th>\n",
       "      <td>22436899</td>\n",
       "      <td>1-BR Lincoln Center</td>\n",
       "      <td>72390391</td>\n",
       "      <td>Jelena</td>\n",
       "      <td>Manhattan</td>\n",
       "      <td>Upper West Side</td>\n",
       "      <td>40.77213</td>\n",
       "      <td>-73.98665</td>\n",
       "      <td>Entire home/apt</td>\n",
       "      <td>10000</td>\n",
       "      <td>30</td>\n",
       "      <td>0</td>\n",
       "      <td>NaN</td>\n",
       "      <td>NaN</td>\n",
       "      <td>1</td>\n",
       "      <td>83</td>\n",
       "    </tr>\n",
       "    <tr>\n",
       "      <th>40433</th>\n",
       "      <td>31340283</td>\n",
       "      <td>2br - The Heart of NYC: Manhattans Lower East ...</td>\n",
       "      <td>4382127</td>\n",
       "      <td>Matt</td>\n",
       "      <td>Manhattan</td>\n",
       "      <td>Lower East Side</td>\n",
       "      <td>40.71980</td>\n",
       "      <td>-73.98566</td>\n",
       "      <td>Entire home/apt</td>\n",
       "      <td>9999</td>\n",
       "      <td>30</td>\n",
       "      <td>0</td>\n",
       "      <td>NaN</td>\n",
       "      <td>NaN</td>\n",
       "      <td>1</td>\n",
       "      <td>365</td>\n",
       "    </tr>\n",
       "    <tr>\n",
       "      <th>12342</th>\n",
       "      <td>9528920</td>\n",
       "      <td>Quiet, Clean, Lit @ LES &amp; Chinatown</td>\n",
       "      <td>3906464</td>\n",
       "      <td>Amy</td>\n",
       "      <td>Manhattan</td>\n",
       "      <td>Lower East Side</td>\n",
       "      <td>40.71355</td>\n",
       "      <td>-73.98507</td>\n",
       "      <td>Private room</td>\n",
       "      <td>9999</td>\n",
       "      <td>99</td>\n",
       "      <td>6</td>\n",
       "      <td>2016-01-01</td>\n",
       "      <td>0.14</td>\n",
       "      <td>1</td>\n",
       "      <td>83</td>\n",
       "    </tr>\n",
       "    <tr>\n",
       "      <th>6530</th>\n",
       "      <td>4737930</td>\n",
       "      <td>Spanish Harlem Apt</td>\n",
       "      <td>1235070</td>\n",
       "      <td>Olson</td>\n",
       "      <td>Manhattan</td>\n",
       "      <td>East Harlem</td>\n",
       "      <td>40.79264</td>\n",
       "      <td>-73.93898</td>\n",
       "      <td>Entire home/apt</td>\n",
       "      <td>9999</td>\n",
       "      <td>5</td>\n",
       "      <td>1</td>\n",
       "      <td>2015-01-02</td>\n",
       "      <td>0.02</td>\n",
       "      <td>1</td>\n",
       "      <td>0</td>\n",
       "    </tr>\n",
       "    <tr>\n",
       "      <th>30268</th>\n",
       "      <td>23377410</td>\n",
       "      <td>Beautiful/Spacious 1 bed luxury flat-TriBeCa/Soho</td>\n",
       "      <td>18128455</td>\n",
       "      <td>Rum</td>\n",
       "      <td>Manhattan</td>\n",
       "      <td>Tribeca</td>\n",
       "      <td>40.72197</td>\n",
       "      <td>-74.00633</td>\n",
       "      <td>Entire home/apt</td>\n",
       "      <td>8500</td>\n",
       "      <td>30</td>\n",
       "      <td>2</td>\n",
       "      <td>2018-09-18</td>\n",
       "      <td>0.18</td>\n",
       "      <td>1</td>\n",
       "      <td>251</td>\n",
       "    </tr>\n",
       "    <tr>\n",
       "      <th>4377</th>\n",
       "      <td>2953058</td>\n",
       "      <td>Film Location</td>\n",
       "      <td>1177497</td>\n",
       "      <td>Jessica</td>\n",
       "      <td>Brooklyn</td>\n",
       "      <td>Clinton Hill</td>\n",
       "      <td>40.69137</td>\n",
       "      <td>-73.96723</td>\n",
       "      <td>Entire home/apt</td>\n",
       "      <td>8000</td>\n",
       "      <td>1</td>\n",
       "      <td>1</td>\n",
       "      <td>2016-09-15</td>\n",
       "      <td>0.03</td>\n",
       "      <td>11</td>\n",
       "      <td>365</td>\n",
       "    </tr>\n",
       "    <tr>\n",
       "      <th>29662</th>\n",
       "      <td>22779726</td>\n",
       "      <td>East 72nd Townhouse by (Hidden by Airbnb)</td>\n",
       "      <td>156158778</td>\n",
       "      <td>Sally</td>\n",
       "      <td>Manhattan</td>\n",
       "      <td>Upper East Side</td>\n",
       "      <td>40.76824</td>\n",
       "      <td>-73.95989</td>\n",
       "      <td>Entire home/apt</td>\n",
       "      <td>7703</td>\n",
       "      <td>1</td>\n",
       "      <td>0</td>\n",
       "      <td>NaN</td>\n",
       "      <td>NaN</td>\n",
       "      <td>12</td>\n",
       "      <td>146</td>\n",
       "    </tr>\n",
       "    <tr>\n",
       "      <th>42523</th>\n",
       "      <td>33007610</td>\n",
       "      <td>70' Luxury MotorYacht on the Hudson</td>\n",
       "      <td>7407743</td>\n",
       "      <td>Jack</td>\n",
       "      <td>Manhattan</td>\n",
       "      <td>Battery Park City</td>\n",
       "      <td>40.71162</td>\n",
       "      <td>-74.01693</td>\n",
       "      <td>Entire home/apt</td>\n",
       "      <td>7500</td>\n",
       "      <td>1</td>\n",
       "      <td>0</td>\n",
       "      <td>NaN</td>\n",
       "      <td>NaN</td>\n",
       "      <td>1</td>\n",
       "      <td>364</td>\n",
       "    </tr>\n",
       "  </tbody>\n",
       "</table>\n",
       "</div>"
      ],
      "text/plain": [
       "             id                                               name    host_id  \\\n",
       "9151    7003697                Furnished room in Astoria apartment   20582832   \n",
       "17692  13894339    Luxury 1 bedroom apt. -stunning Manhattan views    5143901   \n",
       "29238  22436899                                1-BR Lincoln Center   72390391   \n",
       "40433  31340283  2br - The Heart of NYC: Manhattans Lower East ...    4382127   \n",
       "12342   9528920                Quiet, Clean, Lit @ LES & Chinatown    3906464   \n",
       "6530    4737930                                 Spanish Harlem Apt    1235070   \n",
       "30268  23377410  Beautiful/Spacious 1 bed luxury flat-TriBeCa/Soho   18128455   \n",
       "4377    2953058                                      Film Location    1177497   \n",
       "29662  22779726          East 72nd Townhouse by (Hidden by Airbnb)  156158778   \n",
       "42523  33007610                70' Luxury MotorYacht on the Hudson    7407743   \n",
       "\n",
       "      host_name neighbourhood_group      neighbourhood  latitude  longitude  \\\n",
       "9151   Kathrine              Queens            Astoria  40.76810  -73.91651   \n",
       "17692      Erin            Brooklyn         Greenpoint  40.73260  -73.95739   \n",
       "29238    Jelena           Manhattan    Upper West Side  40.77213  -73.98665   \n",
       "40433      Matt           Manhattan    Lower East Side  40.71980  -73.98566   \n",
       "12342       Amy           Manhattan    Lower East Side  40.71355  -73.98507   \n",
       "6530      Olson           Manhattan        East Harlem  40.79264  -73.93898   \n",
       "30268       Rum           Manhattan            Tribeca  40.72197  -74.00633   \n",
       "4377    Jessica            Brooklyn       Clinton Hill  40.69137  -73.96723   \n",
       "29662     Sally           Manhattan    Upper East Side  40.76824  -73.95989   \n",
       "42523      Jack           Manhattan  Battery Park City  40.71162  -74.01693   \n",
       "\n",
       "             room_type  price  minimum_nights  number_of_reviews last_review  \\\n",
       "9151      Private room  10000             100                  2  2016-02-13   \n",
       "17692  Entire home/apt  10000               5                  5  2017-07-27   \n",
       "29238  Entire home/apt  10000              30                  0         NaN   \n",
       "40433  Entire home/apt   9999              30                  0         NaN   \n",
       "12342     Private room   9999              99                  6  2016-01-01   \n",
       "6530   Entire home/apt   9999               5                  1  2015-01-02   \n",
       "30268  Entire home/apt   8500              30                  2  2018-09-18   \n",
       "4377   Entire home/apt   8000               1                  1  2016-09-15   \n",
       "29662  Entire home/apt   7703               1                  0         NaN   \n",
       "42523  Entire home/apt   7500               1                  0         NaN   \n",
       "\n",
       "       reviews_per_month  calculated_host_listings_count  availability_365  \n",
       "9151                0.04                               1                 0  \n",
       "17692               0.16                               1                 0  \n",
       "29238                NaN                               1                83  \n",
       "40433                NaN                               1               365  \n",
       "12342               0.14                               1                83  \n",
       "6530                0.02                               1                 0  \n",
       "30268               0.18                               1               251  \n",
       "4377                0.03                              11               365  \n",
       "29662                NaN                              12               146  \n",
       "42523                NaN                               1               364  "
      ]
     },
     "execution_count": 4,
     "metadata": {},
     "output_type": "execute_result"
    }
   ],
   "source": [
    "# 10 Host Termahal\n",
    "airbnb.sort_values(by=['price'], ascending=False).head(10)"
   ]
  },
  {
   "cell_type": "code",
   "execution_count": 6,
   "id": "8b4cf3aa-6010-46c3-b4f2-fdd89981b276",
   "metadata": {},
   "outputs": [
    {
     "name": "stdout",
     "output_type": "stream",
     "text": [
      "<class 'pandas.core.frame.DataFrame'>\n",
      "RangeIndex: 48895 entries, 0 to 48894\n",
      "Data columns (total 16 columns):\n",
      " #   Column                          Non-Null Count  Dtype  \n",
      "---  ------                          --------------  -----  \n",
      " 0   id                              48895 non-null  int64  \n",
      " 1   name                            48879 non-null  object \n",
      " 2   host_id                         48895 non-null  int64  \n",
      " 3   host_name                       48874 non-null  object \n",
      " 4   neighbourhood_group             48895 non-null  object \n",
      " 5   neighbourhood                   48895 non-null  object \n",
      " 6   latitude                        48895 non-null  float64\n",
      " 7   longitude                       48895 non-null  float64\n",
      " 8   room_type                       48895 non-null  object \n",
      " 9   price                           48895 non-null  int64  \n",
      " 10  minimum_nights                  48895 non-null  int64  \n",
      " 11  number_of_reviews               48895 non-null  int64  \n",
      " 12  last_review                     38843 non-null  object \n",
      " 13  reviews_per_month               38843 non-null  float64\n",
      " 14  calculated_host_listings_count  48895 non-null  int64  \n",
      " 15  availability_365                48895 non-null  int64  \n",
      "dtypes: float64(3), int64(7), object(6)\n",
      "memory usage: 6.0+ MB\n"
     ]
    }
   ],
   "source": [
    "airbnb.info()"
   ]
  },
  {
   "cell_type": "markdown",
   "id": "f6557ca6-8ff5-45d9-a47c-ec0ac9aa5d13",
   "metadata": {},
   "source": [
    "### 2. Data Properties"
   ]
  },
  {
   "cell_type": "markdown",
   "id": "f8e07464-59e7-41b0-b329-62f30f3c4369",
   "metadata": {},
   "source": [
    "#### a.Type"
   ]
  },
  {
   "cell_type": "code",
   "execution_count": null,
   "id": "2d39c01a-6888-4ed2-a720-43a11ab1d01c",
   "metadata": {},
   "outputs": [],
   "source": [
    "airbnb.dtypes"
   ]
  },
  {
   "cell_type": "markdown",
   "id": "adc229d1-ff16-4f0e-8da9-7ce900a535df",
   "metadata": {},
   "source": [
    "#### b. Missing Value"
   ]
  },
  {
   "cell_type": "code",
   "execution_count": null,
   "id": "b850b258-9013-4b61-bd54-c7bc7861bd16",
   "metadata": {},
   "outputs": [],
   "source": [
    "airbnb.isnull().sum()"
   ]
  },
  {
   "cell_type": "markdown",
   "id": "c523a5cd-f86c-4f94-a230-74c4efd90126",
   "metadata": {},
   "source": [
    "#### c. Tampilan data"
   ]
  },
  {
   "cell_type": "code",
   "execution_count": null,
   "id": "c9cd788f-8552-419c-a0bd-837ee1214238",
   "metadata": {},
   "outputs": [],
   "source": [
    "airbnb.head()"
   ]
  },
  {
   "cell_type": "code",
   "execution_count": null,
   "id": "9f032b8f-2cbc-48b4-a1d6-ff0c08efe2f8",
   "metadata": {},
   "outputs": [],
   "source": [
    "airbnb.tail()"
   ]
  },
  {
   "cell_type": "markdown",
   "id": "49ec65ab-eea9-44a5-87d6-9a4ef0edf6eb",
   "metadata": {},
   "source": [
    "#### d. Data summary"
   ]
  },
  {
   "cell_type": "code",
   "execution_count": null,
   "id": "a8ca38db-b1ff-4df1-ab71-f2a2d1d99d12",
   "metadata": {},
   "outputs": [],
   "source": [
    "airbnb.info()"
   ]
  },
  {
   "cell_type": "code",
   "execution_count": null,
   "id": "d5718732-6556-4a6d-b0f9-6238597bf775",
   "metadata": {},
   "outputs": [],
   "source": [
    "48895-10052"
   ]
  },
  {
   "cell_type": "code",
   "execution_count": null,
   "id": "79542e08-abbf-4e7c-9647-0f90c6cdfad8",
   "metadata": {},
   "outputs": [],
   "source": [
    "airbnb.describe(include='all')"
   ]
  },
  {
   "cell_type": "code",
   "execution_count": null,
   "id": "21152d10-e6d0-489f-a599-911df841725a",
   "metadata": {},
   "outputs": [],
   "source": [
    "airbnb.shape"
   ]
  },
  {
   "cell_type": "markdown",
   "id": "4bcab113-e131-40d9-a360-0ee2fe6376a5",
   "metadata": {},
   "source": [
    "#### e. Shape data"
   ]
  },
  {
   "cell_type": "code",
   "execution_count": 9,
   "id": "362965ed-8cfa-4c68-990d-8c07930c3913",
   "metadata": {},
   "outputs": [
    {
     "data": {
      "text/plain": [
       "(48895, 16)"
      ]
     },
     "execution_count": 9,
     "metadata": {},
     "output_type": "execute_result"
    }
   ],
   "source": [
    "airbnb.shape"
   ]
  },
  {
   "cell_type": "markdown",
   "id": "7915d4eb-8c50-4451-bac1-8521c47cbb4b",
   "metadata": {},
   "source": [
    "### 3. Jumlah data, mean, median, dan standar deviasi."
   ]
  },
  {
   "cell_type": "code",
   "execution_count": null,
   "id": "d2a2093a-9512-43bb-bcc0-dd261d6e2fed",
   "metadata": {},
   "outputs": [],
   "source": [
    "data3 = airbnb.describe(include='all')\n",
    "data3 = data3.iloc[[0, 4, 3, 5]]\n",
    "data3"
   ]
  },
  {
   "cell_type": "markdown",
   "id": "2e9cc37b-1ed7-4035-8dd6-e21f96f1c4c7",
   "metadata": {},
   "source": [
    "### 4. Harga maksimal dan harga minimal"
   ]
  },
  {
   "cell_type": "code",
   "execution_count": null,
   "id": "46cd7fba-d372-48a4-bdeb-6c452796e93e",
   "metadata": {},
   "outputs": [],
   "source": [
    "max_price = airbnb['price'].max()\n",
    "min_price = airbnb['price'].min()\n",
    "print('Harga maksimal = ', max_price)\n",
    "print('Harga minimal = ', min_price)"
   ]
  },
  {
   "cell_type": "markdown",
   "id": "a66bc08f-94f5-43c0-8b30-d89317c573fb",
   "metadata": {},
   "source": [
    "### 5. Selesaikan masalah missing value"
   ]
  },
  {
   "cell_type": "markdown",
   "id": "527ef0ca-79c2-429b-8971-b5e8829cc034",
   "metadata": {},
   "source": [
    "#### Mencari missing value"
   ]
  },
  {
   "cell_type": "code",
   "execution_count": null,
   "id": "242ae071-02d7-43b8-8fed-a21660c9059a",
   "metadata": {},
   "outputs": [],
   "source": [
    "airbnb.isna().sum()"
   ]
  },
  {
   "cell_type": "markdown",
   "id": "16dc340d-b988-4d57-bf5f-a8df9199de04",
   "metadata": {},
   "source": [
    "#### Isi missing value pada kolom 'last_review' dengan data yang paling banyak muncul"
   ]
  },
  {
   "cell_type": "code",
   "execution_count": null,
   "id": "ebd60183-9a77-4021-9c88-a120fba5dd0b",
   "metadata": {},
   "outputs": [],
   "source": [
    "airbnb['last_review'] = airbnb['last_review'].fillna(airbnb['last_review'].mode()[0])"
   ]
  },
  {
   "cell_type": "code",
   "execution_count": null,
   "id": "5bd21f08-7ca7-475e-87fe-c1e3043597b4",
   "metadata": {},
   "outputs": [],
   "source": [
    "airbnb['last_review'].isnull().any()"
   ]
  },
  {
   "cell_type": "markdown",
   "id": "3537ffd7-b93c-49ca-8662-e538374b09e4",
   "metadata": {},
   "source": [
    "#### Isi missing value pada kolom 'reviews_per_month' dengan mean"
   ]
  },
  {
   "cell_type": "code",
   "execution_count": null,
   "id": "d3b2fd1e-9fec-49bc-b162-25722e4ecc74",
   "metadata": {},
   "outputs": [],
   "source": [
    "airbnb['reviews_per_month'].fillna(airbnb['reviews_per_month'].mean(), inplace=True)"
   ]
  },
  {
   "cell_type": "code",
   "execution_count": null,
   "id": "30e91117-4634-4405-80b0-1821c5803f5b",
   "metadata": {},
   "outputs": [],
   "source": [
    "airbnb['reviews_per_month'].isnull().any()"
   ]
  },
  {
   "cell_type": "markdown",
   "id": "de05f558-2f93-43f0-8fdc-bb587c8381ca",
   "metadata": {},
   "source": [
    "#### Drop 'name' and 'host_name'\n",
    "Ini dilakukan karena jumlahnya hanya sedikit sehingga tidak akan berpengaruh signifikan terhadap data."
   ]
  },
  {
   "cell_type": "code",
   "execution_count": null,
   "id": "544348bb-0006-4b05-8f4a-1d9f2e0c046c",
   "metadata": {},
   "outputs": [],
   "source": [
    "airbnb.isnull().sum()"
   ]
  },
  {
   "cell_type": "code",
   "execution_count": null,
   "id": "f3e52b04-e956-4d27-9709-7e5c7c4e1824",
   "metadata": {},
   "outputs": [],
   "source": [
    "airbnb.dropna(axis=0, how='any', inplace=True)"
   ]
  },
  {
   "cell_type": "code",
   "execution_count": null,
   "id": "93f86eb8-5266-4d19-a0f6-86aa1bb643e0",
   "metadata": {},
   "outputs": [],
   "source": [
    "airbnb.isnull().sum()"
   ]
  },
  {
   "cell_type": "code",
   "execution_count": null,
   "id": "a3fd9852-fc8e-4fa7-969f-f7d29e781b98",
   "metadata": {},
   "outputs": [],
   "source": [
    "airbnb.isna().any()"
   ]
  },
  {
   "cell_type": "markdown",
   "id": "3135978c-6135-47b0-a486-4405ef546d53",
   "metadata": {},
   "source": [
    "### 6. Kategori berdasarkan Price: Cheap, Medium, Expensive\n",
    "Cheap <= 4000,\n",
    "Medium >= 4000,\n",
    "Expensive >= 7000"
   ]
  },
  {
   "cell_type": "code",
   "execution_count": 13,
   "id": "a0127d82-5df6-4df0-a694-786b1b63742a",
   "metadata": {},
   "outputs": [
    {
     "data": {
      "text/plain": [
       "10000"
      ]
     },
     "execution_count": 13,
     "metadata": {},
     "output_type": "execute_result"
    }
   ],
   "source": [
    "airbnb['price'].max()"
   ]
  },
  {
   "cell_type": "code",
   "execution_count": 14,
   "id": "9a900298-d68e-418e-9380-d97826af8a71",
   "metadata": {},
   "outputs": [
    {
     "data": {
      "text/plain": [
       "0"
      ]
     },
     "execution_count": 14,
     "metadata": {},
     "output_type": "execute_result"
    }
   ],
   "source": [
    "airbnb['price'].min()"
   ]
  },
  {
   "cell_type": "code",
   "execution_count": 15,
   "id": "b66f29e9-f5cc-47ae-93d5-040e26414c18",
   "metadata": {},
   "outputs": [],
   "source": [
    "airbnb['price_category'] = np.where(airbnb['price'] > 7000, 'Expensive', \n",
    "                                    np.where(airbnb['price'] >= 4000, \n",
    "                                             'Medium', 'Cheap'))"
   ]
  },
  {
   "cell_type": "code",
   "execution_count": 16,
   "id": "dafed00d-6ce4-4fd7-bee4-941fe9858593",
   "metadata": {},
   "outputs": [
    {
     "data": {
      "text/plain": [
       "Cheap        48860\n",
       "Medium          24\n",
       "Expensive       11\n",
       "Name: price_category, dtype: int64"
      ]
     },
     "execution_count": 16,
     "metadata": {},
     "output_type": "execute_result"
    }
   ],
   "source": [
    "airbnb['price_category'].value_counts()"
   ]
  },
  {
   "cell_type": "code",
   "execution_count": 17,
   "id": "0107d7a9-a744-4cd5-9a2f-a38d5138652e",
   "metadata": {},
   "outputs": [
    {
     "name": "stdout",
     "output_type": "stream",
     "text": [
      "<class 'pandas.core.frame.DataFrame'>\n",
      "RangeIndex: 48895 entries, 0 to 48894\n",
      "Data columns (total 17 columns):\n",
      " #   Column                          Non-Null Count  Dtype  \n",
      "---  ------                          --------------  -----  \n",
      " 0   id                              48895 non-null  int64  \n",
      " 1   name                            48879 non-null  object \n",
      " 2   host_id                         48895 non-null  int64  \n",
      " 3   host_name                       48874 non-null  object \n",
      " 4   neighbourhood_group             48895 non-null  object \n",
      " 5   neighbourhood                   48895 non-null  object \n",
      " 6   latitude                        48895 non-null  float64\n",
      " 7   longitude                       48895 non-null  float64\n",
      " 8   room_type                       48895 non-null  object \n",
      " 9   price                           48895 non-null  int64  \n",
      " 10  minimum_nights                  48895 non-null  int64  \n",
      " 11  number_of_reviews               48895 non-null  int64  \n",
      " 12  last_review                     38843 non-null  object \n",
      " 13  reviews_per_month               38843 non-null  float64\n",
      " 14  calculated_host_listings_count  48895 non-null  int64  \n",
      " 15  availability_365                48895 non-null  int64  \n",
      " 16  price_category                  48895 non-null  object \n",
      "dtypes: float64(3), int64(7), object(7)\n",
      "memory usage: 6.3+ MB\n"
     ]
    }
   ],
   "source": [
    "airbnb.info()"
   ]
  },
  {
   "cell_type": "markdown",
   "id": "61da3ed5-0aa2-4aee-af32-17de774d5b1e",
   "metadata": {},
   "source": [
    "### 7. Filter semua data yang memiliki 'last_review' di > 2019"
   ]
  },
  {
   "cell_type": "code",
   "execution_count": 18,
   "id": "35e85e35-714b-4152-af7e-6c1d64b50660",
   "metadata": {},
   "outputs": [],
   "source": [
    "filter_last_review = airbnb.loc[airbnb['last_review'] > '2019']"
   ]
  },
  {
   "cell_type": "code",
   "execution_count": 19,
   "id": "0c5cfd31-2050-48a2-9a92-af034af7f757",
   "metadata": {},
   "outputs": [],
   "source": [
    "# Tersusun dari yang paling terbaru\n",
    "filter_last_review = filter_last_review.sort_values(by=['last_review'], ascending=False)"
   ]
  },
  {
   "cell_type": "code",
   "execution_count": 20,
   "id": "804c0df2-270b-4889-b401-6efe2e323903",
   "metadata": {},
   "outputs": [
    {
     "data": {
      "text/plain": [
       "48852    2019-07-08\n",
       "44287    2019-07-08\n",
       "30161    2019-07-08\n",
       "47562    2019-07-08\n",
       "47070    2019-07-08\n",
       "            ...    \n",
       "36631    2019-01-01\n",
       "39047    2019-01-01\n",
       "32279    2019-01-01\n",
       "39055    2019-01-01\n",
       "37389    2019-01-01\n",
       "Name: last_review, Length: 25209, dtype: object"
      ]
     },
     "execution_count": 20,
     "metadata": {},
     "output_type": "execute_result"
    }
   ],
   "source": [
    "filter_last_review['last_review']"
   ]
  },
  {
   "cell_type": "markdown",
   "id": "f63064d0-984e-43d5-b245-dc01339b08a1",
   "metadata": {},
   "source": [
    "### 8. Visualisasikan 'price' untuk membandingkan harga kamar yang tersedia"
   ]
  },
  {
   "cell_type": "code",
   "execution_count": 22,
   "id": "b64f5dad-92f6-4915-9844-ee5f5a8f8f97",
   "metadata": {},
   "outputs": [
    {
     "data": {
      "image/png": "[encoded data removed]",
      "text/plain": [
       "<Figure size 432x288 with 1 Axes>"
      ]
     },
     "metadata": {
      "needs_background": "light"
     },
     "output_type": "display_data"
    },
    {
     "data": {
      "text/plain": [
       "Text(0.5, 1.0, 'a')"
      ]
     },
     "execution_count": 22,
     "metadata": {},
     "output_type": "execute_result"
    },
    {
     "data": {
      "image/png": "[encoded data removed]",
      "text/plain": [
       "<Figure size 432x288 with 1 Axes>"
      ]
     },
     "metadata": {
      "needs_background": "light"
     },
     "output_type": "display_data"
    }
   ],
   "source": [
    "plt.bar(airbnb['price_category'], airbnb['room_type'])\n",
    "plt.show()\n",
    "plt.title('a')"
   ]
  },
  {
   "cell_type": "code",
   "execution_count": 23,
   "id": "620f90b5-4450-415d-befd-352dc92e99ae",
   "metadata": {},
   "outputs": [
    {
     "data": {
      "text/plain": [
       "Text(0, 0.5, 'Harga (USD)')"
      ]
     },
     "execution_count": 23,
     "metadata": {},
     "output_type": "execute_result"
    },
    {
     "data": {
      "image/png": "[encoded data removed]",
      "text/plain": [
       "<Figure size 432x288 with 1 Axes>"
      ]
     },
     "metadata": {
      "needs_background": "light"
     },
     "output_type": "display_data"
    }
   ],
   "source": [
    "plt.bar(airbnb['room_type'], airbnb['price'], color='b')\n",
    "plt.title('Rata-rata harga berdasarkan jenis ruangan')\n",
    "plt.xlabel('Jenis ruangan')\n",
    "plt.ylabel(\"Harga (USD)\")"
   ]
  },
  {
   "cell_type": "code",
   "execution_count": 24,
   "id": "9789080f-99e4-407e-9832-39ff0e823bdd",
   "metadata": {},
   "outputs": [
    {
     "data": {
      "text/plain": [
       "Cheap        48860\n",
       "Medium          24\n",
       "Expensive       11\n",
       "Name: price_category, dtype: int64"
      ]
     },
     "execution_count": 24,
     "metadata": {},
     "output_type": "execute_result"
    }
   ],
   "source": [
    "airbnb['price_category'].value_counts()"
   ]
  },
  {
   "cell_type": "code",
   "execution_count": 25,
   "id": "bbb2e698-a4ea-4d99-ab91-faac9d8a8101",
   "metadata": {},
   "outputs": [
    {
     "name": "stderr",
     "output_type": "stream",
     "text": [
      "<>:1: SyntaxWarning: str indices must be integers or slices, not str; perhaps you missed a comma?\n",
      "<>:1: SyntaxWarning: str indices must be integers or slices, not str; perhaps you missed a comma?\n",
      "<ipython-input-25-7cba2fac9cf2>:1: SyntaxWarning: str indices must be integers or slices, not str; perhaps you missed a comma?\n",
      "  airbnb.groupby(('neighbourhood_group')['price'].agg(['average_price']))\n"
     ]
    },
    {
     "ename": "TypeError",
     "evalue": "string indices must be integers",
     "output_type": "error",
     "traceback": [
      "\u001b[1;31m---------------------------------------------------------------------------\u001b[0m",
      "\u001b[1;31mTypeError\u001b[0m                                 Traceback (most recent call last)",
      "\u001b[1;32m<ipython-input-25-7cba2fac9cf2>\u001b[0m in \u001b[0;36m<module>\u001b[1;34m\u001b[0m\n\u001b[1;32m----> 1\u001b[1;33m \u001b[0mairbnb\u001b[0m\u001b[1;33m.\u001b[0m\u001b[0mgroupby\u001b[0m\u001b[1;33m(\u001b[0m\u001b[1;33m(\u001b[0m\u001b[1;34m'neighbourhood_group'\u001b[0m\u001b[1;33m)\u001b[0m\u001b[1;33m[\u001b[0m\u001b[1;34m'price'\u001b[0m\u001b[1;33m]\u001b[0m\u001b[1;33m.\u001b[0m\u001b[0magg\u001b[0m\u001b[1;33m(\u001b[0m\u001b[1;33m[\u001b[0m\u001b[1;34m'average_price'\u001b[0m\u001b[1;33m]\u001b[0m\u001b[1;33m)\u001b[0m\u001b[1;33m)\u001b[0m\u001b[1;33m\u001b[0m\u001b[1;33m\u001b[0m\u001b[0m\n\u001b[0m",
      "\u001b[1;31mTypeError\u001b[0m: string indices must be integers"
     ]
    }
   ],
   "source": [
    "airbnb.groupby(('neighbourhood_group')['price'].agg(['average_price']))"
   ]
  },
  {
   "cell_type": "code",
   "execution_count": null,
   "id": "80c4549b-d7bb-4b38-b007-be7e9c51a80c",
   "metadata": {},
   "outputs": [],
   "source": [
    "plt.bar()"
   ]
  }
 ],
 "metadata": {
  "kernelspec": {
   "display_name": "Python 3",
   "language": "python",
   "name": "python3"
  },
  "language_info": {
   "codemirror_mode": {
    "name": "ipython",
    "version": 3
   },
   "file_extension": ".py",
   "mimetype": "text/x-python",
   "name": "python",
   "nbconvert_exporter": "python",
   "pygments_lexer": "ipython3",
   "version": "3.8.8"
  }
 },
 "nbformat": 4,
 "nbformat_minor": 5
}
